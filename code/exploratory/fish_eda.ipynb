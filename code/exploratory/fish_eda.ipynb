{
 "cells": [
  {
   "cell_type": "code",
   "execution_count": null,
   "metadata": {},
   "outputs": [],
   "source": [
    "import numpy as np\n",
    "import pandas as pd\n",
    "import scipy.stats as st\n",
    "\n",
    "import bokeh.io\n",
    "import bokeh.plotting\n",
    "import holoviews as hv\n",
    "import bokeh_catplot\n",
    "\n",
    "bokeh.io.output_notebook()\n",
    "hv.extension('bokeh')\n",
    "\n",
    "%load_ext blackcellmagic"
   ]
  },
  {
   "cell_type": "markdown",
   "metadata": {},
   "source": [
    "Load data from Brewster, pre-tidied by Manuel, and drop the spurious column that was the index in csv."
   ]
  },
  {
   "cell_type": "code",
   "execution_count": null,
   "metadata": {},
   "outputs": [],
   "source": [
    "raw_data = pd.read_csv(\"../../data/jones_brewster_2014.csv\")\n",
    "del raw_data['Unnamed: 0']"
   ]
  },
  {
   "cell_type": "code",
   "execution_count": null,
   "metadata": {},
   "outputs": [],
   "source": [
    "raw_data.head()"
   ]
  },
  {
   "cell_type": "markdown",
   "metadata": {},
   "source": [
    "What are all the experiment labels in the dataset?"
   ]
  },
  {
   "cell_type": "code",
   "execution_count": null,
   "metadata": {},
   "outputs": [],
   "source": [
    "raw_expt_labels = raw_data['experiment'].unique()\n",
    "raw_expt_labels"
   ]
  },
  {
   "cell_type": "markdown",
   "metadata": {},
   "source": [
    "Woah, that's a lot to wrestle! Let's take a glance at all of it and then zoom in to test a pipeline."
   ]
  },
  {
   "cell_type": "code",
   "execution_count": null,
   "metadata": {},
   "outputs": [],
   "source": [
    "plot_kwargs = {\n",
    "    \"x_axis_label\": \"counts\",\n",
    "    \"y_axis_label\": \"expt\",\n",
    "    \"width\": 500,\n",
    "    \"height\": 1000,\n",
    "    \"horizontal\": True,\n",
    "}\n",
    "p = bokeh_catplot.box(data=raw_data, cats=\"experiment\", val=\"mRNA_cell\", **plot_kwargs)\n",
    "bokeh.io.show(p)"
   ]
  },
  {
   "cell_type": "markdown",
   "metadata": {},
   "source": [
    "UV5, 5DL10, and 5DL20 look like good candidates for a closer look; all have decent non-zero expression, and they look different from each other."
   ]
  },
  {
   "cell_type": "code",
   "execution_count": null,
   "metadata": {},
   "outputs": [],
   "source": [
    "df_slice = raw_data.query(\"experiment == 'UV5' \\\n",
    "                          or experiment == '5DL10' \\\n",
    "                          or experiment == '5DL20'\")\n",
    "\n",
    "df_slice['experiment'].unique()"
   ]
  },
  {
   "cell_type": "markdown",
   "metadata": {},
   "source": [
    "Now that we've got a more manageable set, let's make ECDFs and chi-by-eye with negative binomial. `scipy.stats` convention is `cdf(k, n, p, loc=0)`, where $n$ is the number of successes we're waiting for and $p$ is probability of success."
   ]
  },
  {
   "cell_type": "code",
   "execution_count": null,
   "metadata": {},
   "outputs": [],
   "source": [
    "p = bokeh_catplot.ecdf(data=df_slice, cats='experiment', val='mRNA_cell', style='staircase')\n",
    "# compute upper bound for theoretical CDF plots\n",
    "u_bound = max(df_slice['mRNA_cell'])\n",
    "x = np.arange(u_bound+1)\n",
    "p.line(x, st.nbinom.cdf(x, 5, 0.2))\n",
    "p.line(x, st.nbinom.cdf(x, 3, 0.4), color='orange')\n",
    "p.line(x, st.nbinom.cdf(x, .3, 0.26), color='green')\n",
    "bokeh.io.show(p)"
   ]
  },
  {
   "cell_type": "markdown",
   "metadata": {},
   "source": [
    "Ok, good start. Next let's sample."
   ]
  },
  {
   "cell_type": "code",
   "execution_count": null,
   "metadata": {},
   "outputs": [],
   "source": []
  }
 ],
 "metadata": {
  "kernelspec": {
   "display_name": "Python 3",
   "language": "python",
   "name": "python3"
  },
  "language_info": {
   "codemirror_mode": {
    "name": "ipython",
    "version": 3
   },
   "file_extension": ".py",
   "mimetype": "text/x-python",
   "name": "python",
   "nbconvert_exporter": "python",
   "pygments_lexer": "ipython3",
   "version": "3.7.4"
  }
 },
 "nbformat": 4,
 "nbformat_minor": 4
}
