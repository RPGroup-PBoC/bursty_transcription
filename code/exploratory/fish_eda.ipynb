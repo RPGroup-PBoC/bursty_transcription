{
 "cells": [
  {
   "cell_type": "code",
   "execution_count": null,
   "metadata": {},
   "outputs": [],
   "source": [
    "import numpy as np\n",
    "import pandas as pd\n",
    "import scipy.stats as st\n",
    "\n",
    "import bebi103\n",
    "\n",
    "import bokeh.io\n",
    "import bokeh.plotting\n",
    "import bokeh_catplot\n",
    "\n",
    "bokeh.io.output_notebook()\n",
    "\n",
    "%load_ext blackcellmagic"
   ]
  },
  {
   "cell_type": "markdown",
   "metadata": {},
   "source": [
    "Load data from Brewster, pre-tidied by Manuel, and drop the spurious column that was the index in csv."
   ]
  },
  {
   "cell_type": "code",
   "execution_count": null,
   "metadata": {},
   "outputs": [],
   "source": [
    "raw_data = pd.read_csv(\"../../data/jones_brewster_2014.csv\")\n",
    "del raw_data['Unnamed: 0']"
   ]
  },
  {
   "cell_type": "code",
   "execution_count": null,
   "metadata": {},
   "outputs": [],
   "source": [
    "raw_data.head()"
   ]
  },
  {
   "cell_type": "markdown",
   "metadata": {},
   "source": [
    "What are all the experiment labels in the dataset?"
   ]
  },
  {
   "cell_type": "code",
   "execution_count": null,
   "metadata": {},
   "outputs": [],
   "source": [
    "raw_expt_labels = raw_data['experiment'].unique()\n",
    "raw_expt_labels"
   ]
  },
  {
   "cell_type": "markdown",
   "metadata": {},
   "source": [
    "Woah, that's a lot to wrestle! Let's take a glance at all of it and then zoom in to test a pipeline."
   ]
  },
  {
   "cell_type": "code",
   "execution_count": null,
   "metadata": {},
   "outputs": [],
   "source": [
    "plot_kwargs = {\n",
    "    \"x_axis_label\": \"counts\",\n",
    "    \"y_axis_label\": \"expt\",\n",
    "    \"width\": 500,\n",
    "    \"height\": 1000,\n",
    "    \"horizontal\": True,\n",
    "}\n",
    "p = bokeh_catplot.box(data=raw_data, cats=\"experiment\", val=\"mRNA_cell\", **plot_kwargs)\n",
    "bokeh.io.show(p)"
   ]
  },
  {
   "cell_type": "markdown",
   "metadata": {},
   "source": [
    "UV5, 5DL10, and 5DL20 look like good candidates for a closer look; all have decent non-zero expression, and they look different from each other."
   ]
  },
  {
   "cell_type": "code",
   "execution_count": null,
   "metadata": {},
   "outputs": [],
   "source": [
    "df_slice = raw_data.query(\"experiment == 'UV5' \\\n",
    "                          or experiment == '5DL10' \\\n",
    "                          or experiment == '5DL20'\")\n",
    "\n",
    "df_slice['experiment'].unique()"
   ]
  },
  {
   "cell_type": "markdown",
   "metadata": {},
   "source": [
    "Now that we've got a more manageable set, let's make ECDFs and chi-by-eye with negative binomial. `scipy.stats` convention is `cdf(k, n, p, loc=0)`, where $n$ is the number of successes we're waiting for and $p$ is probability of success."
   ]
  },
  {
   "cell_type": "code",
   "execution_count": null,
   "metadata": {},
   "outputs": [],
   "source": [
    "p = bokeh_catplot.ecdf(data=df_slice, cats='experiment', val='mRNA_cell', style='staircase')\n",
    "# compute upper bound for theoretical CDF plots\n",
    "u_bound = max(df_slice['mRNA_cell'])\n",
    "x = np.arange(u_bound+1)\n",
    "p.line(x, st.nbinom.cdf(x, 5, 0.2))\n",
    "p.line(x, st.nbinom.cdf(x, 3, 0.4), color='orange')\n",
    "p.line(x, st.nbinom.cdf(x, .3, 0.26), color='green')\n",
    "bokeh.io.show(p)"
   ]
  },
  {
   "cell_type": "markdown",
   "metadata": {},
   "source": [
    "Ok, good start."
   ]
  },
  {
   "cell_type": "markdown",
   "metadata": {},
   "source": [
    "## Sampling with Stan"
   ]
  },
  {
   "cell_type": "markdown",
   "metadata": {},
   "source": [
    "Code below copies from JB's tutorial 7a, 2018. Stan parametrizes the negative binomial with $\\alpha$ and $\\beta$, where $\\alpha$ is the burst frequency (dimensionless, nondimensionalized by mRNA lifetime) and $\\beta = 1/b$ where $b$ is the mean burst size."
   ]
  },
  {
   "cell_type": "markdown",
   "metadata": {},
   "source": [
    "### Prior predictive checks"
   ]
  },
  {
   "cell_type": "code",
   "execution_count": null,
   "metadata": {},
   "outputs": [],
   "source": [
    "model_code_prior_pred = \"\"\"\n",
    "data {\n",
    "  int N;\n",
    "}\n",
    "\n",
    "\n",
    "generated quantities {\n",
    "  int n[N];\n",
    "\n",
    "  real alpha = lognormal_rng(0.0, 2.0);\n",
    "  real b = lognormal_rng(2.0, 3.0);\n",
    "  real beta = 1.0 / b;\n",
    "  \n",
    "  for (i in 1:N) {\n",
    "    n[i] = neg_binomial_rng(alpha, beta);\n",
    "  }\n",
    "}\n",
    "\"\"\""
   ]
  },
  {
   "cell_type": "code",
   "execution_count": null,
   "metadata": {},
   "outputs": [],
   "source": [
    "sm_gen = bebi103.stan.StanModel(model_code=model_code_prior_pred)"
   ]
  },
  {
   "cell_type": "code",
   "execution_count": null,
   "metadata": {},
   "outputs": [],
   "source": [
    "df_UV5 = df_slice[df_slice[\"experiment\"] == \"UV5\"]"
   ]
  },
  {
   "cell_type": "code",
   "execution_count": null,
   "metadata": {},
   "outputs": [],
   "source": [
    "data = dict(N=279)\n",
    "samples_gen = sm_gen.sampling(data=data,\n",
    "                              algorithm='Fixed_param',\n",
    "                              warmup=0,\n",
    "                              chains=1,\n",
    "                              iter=300)"
   ]
  },
  {
   "cell_type": "markdown",
   "metadata": {},
   "source": [
    "Something is wrong with `extract_array`, the df it returns doesn't have all the columns in claims it does, so plotting the ecdfs below doesn't work: it's missing the `chain_idx`, so we can't plot the samples grouped by the model parameters that generated them. At least I think that's the problem? This'll take more debugging and reference to the docs, which I don't have now while on a plane!"
   ]
  },
  {
   "cell_type": "code",
   "execution_count": null,
   "metadata": {},
   "outputs": [],
   "source": [
    "df_samples = bebi103.stan.extract_array(samples_gen, name=\"n\")"
   ]
  },
  {
   "cell_type": "code",
   "execution_count": null,
   "metadata": {},
   "outputs": [],
   "source": [
    "bokeh.io.show(\n",
    "    bokeh_catplot.ecdf(\n",
    "        data=df_samples,\n",
    "        val=\"n\",\n",
    "        show_legend=False,\n",
    "        style='staircase',\n",
    "#         alpha=0.1,\n",
    "#         x_scale=\"log\",\n",
    "    )\n",
    ")\n",
    "# bokeh.io.show(bebi103.viz.ecdf_collection(data=df_samples,\n",
    "#                                           val='n',\n",
    "#                                           cats='chain_idx',\n",
    "#                                           color='#4e79a7',\n",
    "#                                           alpha=0.1,\n",
    "#                                           show_legend=False,\n",
    "#                                           val_axis_type='log'))"
   ]
  },
  {
   "cell_type": "markdown",
   "metadata": {},
   "source": [
    "### Sampling the Posterior\n",
    "Since JB used essentially the same model, I'm not too worried about the prior predictive checks passing. Let's just run the full sampling to get posteriors! (The prior definitely extends up to mRNA counts that'd be reasonable for mammalian cells but absurd for bacteria, but that's ok. I think it does include enough mass at low counts that we should still be fine. This will exaggerate the shrinkage if we do the full pipeline w/ SBC and everything, but oh well. JB's refined, tighter prior for mammalian cells is _definitely_ too tight for us, so let's stick with this for now.)"
   ]
  },
  {
   "cell_type": "code",
   "execution_count": null,
   "metadata": {},
   "outputs": [],
   "source": [
    "model_code = \"\"\"\n",
    "data {\n",
    "  int N;\n",
    "  int n[N];\n",
    "}\n",
    "\n",
    "\n",
    "parameters {\n",
    "  real<lower=0> alpha;\n",
    "  real<lower=0> b;\n",
    "}\n",
    "\n",
    "\n",
    "transformed parameters {\n",
    "  real beta_ = 1.0 / b;\n",
    "}\n",
    "\n",
    "\n",
    "model {\n",
    "  // Priors\n",
    "  alpha ~ lognormal(0.0, 2.0);\n",
    "  b ~ lognormal(2.0, 3.0);\n",
    "\n",
    "  // Likelihood\n",
    "  n ~ neg_binomial(alpha, beta_);\n",
    "}\n",
    "\"\"\""
   ]
  },
  {
   "cell_type": "code",
   "execution_count": null,
   "metadata": {},
   "outputs": [],
   "source": [
    "sm = bebi103.stan.StanModel(model_code=model_code)"
   ]
  },
  {
   "cell_type": "code",
   "execution_count": null,
   "metadata": {},
   "outputs": [],
   "source": [
    "data = dict(N=len(df_UV5),\n",
    "            n=df_UV5['mRNA_cell'].values.astype(int))\n",
    "\n",
    "samples = sm.sampling(data=data)"
   ]
  },
  {
   "cell_type": "code",
   "execution_count": null,
   "metadata": {},
   "outputs": [],
   "source": [
    "df_mcmc = bebi103.stan.to_dataframe(samples, diagnostics=False, inc_warmup=False)\n",
    "\n",
    "# Take a look\n",
    "df_mcmc.head()"
   ]
  },
  {
   "cell_type": "code",
   "execution_count": null,
   "metadata": {},
   "outputs": [],
   "source": [
    "p = bokeh.plotting.figure(width=450, height=400, \n",
    "                          x_axis_label='α (bursts per mRNA lifetime)', \n",
    "                          y_axis_label='b (transcripts per burst)')\n",
    "p.circle(df_mcmc['alpha'], df_mcmc['b'], alpha=0.05)\n",
    "bokeh.io.show(p)"
   ]
  },
  {
   "cell_type": "markdown",
   "metadata": {},
   "source": [
    "That looks quite reasonable. The transcripts per burst & burst frequency are both comparable to what we would have inferred from Manuel's MCMC, but now both parameters are actually identifiable!"
   ]
  },
  {
   "cell_type": "markdown",
   "metadata": {},
   "source": [
    "### Sampling all the data\n",
    "Let's repeat for all the genes!"
   ]
  },
  {
   "cell_type": "code",
   "execution_count": null,
   "metadata": {},
   "outputs": [],
   "source": [
    "plots = []\n",
    "for gene in raw_expt_labels:\n",
    "    temp_df = raw_data[raw_data['experiment'] == gene]\n",
    "    data = dict(N=len(temp_df),\n",
    "                n=temp_df['mRNA_cell'].values.astype(int))\n",
    "\n",
    "    samples = sm.sampling(data=data)\n",
    "    \n",
    "    df_mcmc = bebi103.stan.to_dataframe(samples)\n",
    "\n",
    "    p = bokeh.plotting.figure(width=300, height=250, title=gene,\n",
    "                              x_axis_label='α (bursts per mRNA lifetime)', \n",
    "                              y_axis_label='b (transcripts per burst)')\n",
    "    p.circle(df_mcmc['alpha'], df_mcmc['b'], alpha=0.025)\n",
    "\n",
    "    plots.append(p)\n",
    "    \n",
    "bokeh.io.show(bokeh.layouts.gridplot(plots, ncols=3))"
   ]
  },
  {
   "cell_type": "markdown",
   "metadata": {},
   "source": [
    "Very interesting. Seems like most of the burst sizes are between $\\sim1$ and $\\sim6$, with a few extreme cases as low as $0.5$ or as high as $15$. By contrast the burst frequencies vary over a wider range, from $\\sim5$ down to $\\sim0.03$. Weakly suggests burst freq is the more dynamic variable? But need more exploration."
   ]
  },
  {
   "cell_type": "markdown",
   "metadata": {},
   "source": [
    "### Next steps\n",
    "Next let's plot these all together to look for trends. Does Stan or bebi103.viz have a way to extract contour credible regions? If not, maybe just construct a 2D Gaussian from the mean & covariance matrix of the samples for each condition, and then plot a 95% credible region or something for each from that and overlay all those. Let's also exclude the regulated data and just look for trends in the unregulated promoters first."
   ]
  }
 ],
 "metadata": {
  "kernelspec": {
   "display_name": "Python 3",
   "language": "python",
   "name": "python3"
  },
  "language_info": {
   "codemirror_mode": {
    "name": "ipython",
    "version": 3
   },
   "file_extension": ".py",
   "mimetype": "text/x-python",
   "name": "python",
   "nbconvert_exporter": "python",
   "pygments_lexer": "ipython3",
   "version": "3.7.4"
  }
 },
 "nbformat": 4,
 "nbformat_minor": 4
}
