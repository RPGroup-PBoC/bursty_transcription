{
 "cells": [
  {
   "cell_type": "code",
   "execution_count": null,
   "metadata": {},
   "outputs": [],
   "source": [
    "import re #regex\n",
    "import pickle\n",
    "from multiprocessing import Pool, cpu_count\n",
    "from git import Repo #for directory convenience\n",
    "\n",
    "import numpy as np\n",
    "from scipy.stats import nbinom as neg_binom\n",
    "from mpmath import hyp2f1\n",
    "from mpmath import ln as arbprec_ln\n",
    "from scipy.special import gammaln\n",
    "import pandas as pd\n",
    "\n",
    "import emcee\n",
    "import arviz as az\n",
    "\n",
    "import matplotlib.pyplot as plt\n",
    "import bokeh\n",
    "import bokeh.io\n",
    "import datashader as ds\n",
    "# import datashader.bokeh_ext\n",
    "import bebi103.viz\n",
    "\n",
    "from srep.data_loader import load_FISH_by_promoter\n",
    "\n",
    "bokeh.io.output_notebook()"
   ]
  },
  {
   "cell_type": "code",
   "execution_count": null,
   "metadata": {},
   "outputs": [],
   "source": [
    "repo = Repo(\"./\", search_parent_directories=True)\n",
    "# repo_rootdir holds the absolute path to the top-level of our repo\n",
    "repo_rootdir = repo.working_tree_dir"
   ]
  },
  {
   "cell_type": "code",
   "execution_count": null,
   "metadata": {},
   "outputs": [],
   "source": [
    "# first load data using module util\n",
    "df_unreg, df_reg = load_FISH_by_promoter((\"unreg\", \"reg\"))\n",
    "# pull out one specific promoter for convenience for prior pred check & SBC\n",
    "df_UV5 = df_unreg[df_unreg[\"experiment\"] == \"UV5\"]\n",
    "df_O2_1ngml = df_reg[df_reg[\"experiment\"] == \"O2_1ngmL\"]\n"
   ]
  },
  {
   "cell_type": "code",
   "execution_count": null,
   "metadata": {},
   "outputs": [],
   "source": [
    "# first make mpmath's hypgeom vectorizable for convenience\n",
    "np_log_hyp = np.frompyfunc(\n",
    "    lambda a, b, c, z: arbprec_ln(hyp2f1(a, b, c, z)), 4, 1\n",
    ")\n",
    "\n",
    "def log_p_m_bursty_rep(mRNA, k_burst, mean_burst, kR_on, kR_off):\n",
    "    \"\"\"log prob of given mRNA counts\n",
    "    \n",
    "    note that S&S's alpha & beta are strictly positive, so every factor\n",
    "    in their SI eq 75 & 76 must be >= 0, including 2F1. So we can take\n",
    "    the log of the whole thing without worrying about signs.\n",
    "    \n",
    "    Also note that this function can't handle repressor rates = 0,\n",
    "    code that separately!\n",
    "    \"\"\"\n",
    "    # note that S&S's alpha & beta are strictly positive, so every factor\n",
    "    # in their SI eq 75 & 76 must be >= 0, including 2F1. So we can take\n",
    "    # the log of the whole thing without worrying about signs.\n",
    "    # some args of 2F1 _might_ be negative, but none of the args of\n",
    "    # any of the Gam fcns can possibly be < 0\n",
    "\n",
    "    # first compute a, b, c, the effective parameters in the 2F1 gen fcn\n",
    "    # recall the gen fcn is 2F1(a, b, c, b(z-1))\n",
    "    rate_sum = k_burst + kR_off + kR_on\n",
    "    sqrt_discrim = np.sqrt((rate_sum)**2 - 4*k_burst*kR_off)\n",
    "    a = (rate_sum + sqrt_discrim) / 2.0\n",
    "    b = (rate_sum - sqrt_discrim) / 2.0\n",
    "    c = kR_on + kR_off\n",
    "\n",
    "    prefac = (gammaln(a+mRNA) - gammaln(a) + gammaln(b+mRNA) - gammaln(b)\n",
    "            - gammaln(c+mRNA) + gammaln(c)\n",
    "            - gammaln(1+mRNA) + mRNA*np.log(mean_burst))\n",
    "    log_prob = prefac + np_log_hyp(a+mRNA, b+mRNA, c+mRNA, - mean_burst)\n",
    "    return log_prob.astype(float)"
   ]
  },
  {
   "cell_type": "code",
   "execution_count": null,
   "metadata": {},
   "outputs": [],
   "source": [
    "# %%timeit\n",
    "np.exp(log_p_m_bursty_rep(np.arange(40), 5.2,3.6,1.5,1))"
   ]
  },
  {
   "cell_type": "code",
   "execution_count": null,
   "metadata": {},
   "outputs": [],
   "source": [
    "log_like_repressed((5.2,3.6,1.5,1), data_rep)"
   ]
  },
  {
   "cell_type": "code",
   "execution_count": null,
   "metadata": {},
   "outputs": [],
   "source": [
    "def log_like_repressed(params, data_rep):\n",
    "    \"\"\"Conv wrapper for log likelihood for 2-state promoter w/\n",
    "    transcription bursts and repression.\n",
    "    \n",
    "    data : array-like. n x 2\n",
    "        data[:, 0] = unique mRNA counts\n",
    "        data[:, 1] = frequency of each mRNA count\n",
    "\n",
    "    Note the data pre-processing here, credit to Manuel for this observation:\n",
    "    'NOTE: The likelihood asks for unique mRNA entries and their corresponding \n",
    "    counts to speed up the process of computing the probability distribution. \n",
    "    Instead of computing the probability of 3 mRNAs n times, it computes it \n",
    "    once and multiplies the value by n.'\n",
    "    \"\"\"\n",
    "    mRNA, counts = data_rep[0], data_rep[1]\n",
    "#     return np.sum(counts * log_p_m_bursty_rep(mRNA, *params))\n",
    "    return np.sum(data_rep[1] * log_p_m_bursty_rep(data_rep[0], *params))"
   ]
  },
  {
   "cell_type": "code",
   "execution_count": null,
   "metadata": {},
   "outputs": [],
   "source": [
    "def log_like_constitutive(params, data_uv5):\n",
    "    k_burst, mean_burst, _, _ = params\n",
    "#     k_burst, mean_burst = params\n",
    "#     mRNA, counts = data_constit[0], data_constit[1]\n",
    "    # change vars for scipy's goofy parametrization\n",
    "    p = (1 + mean_burst)**(-1)\n",
    "    return np.sum(data_uv5[1] * neg_binom._logpmf(data_uv5[0], k_burst, p))"
   ]
  },
  {
   "cell_type": "code",
   "execution_count": null,
   "metadata": {},
   "outputs": [],
   "source": [
    "def log_prior(params):\n",
    "    k_burst, mean_burst, kR_on, kR_off = params\n",
    "#     k_burst, mean_burst = params\n",
    "    if (0 < k_burst < 20 and 0 < mean_burst < 20 and\n",
    "        0 < kR_on < 40 and 0 < kR_off < 20):\n",
    "        return 0.0\n",
    "    return -np.inf"
   ]
  },
  {
   "cell_type": "code",
   "execution_count": null,
   "metadata": {},
   "outputs": [],
   "source": [
    "def log_posterior(params, data_uv5, data_rep, log_sampling=False):\n",
    "    \"\"\"log posterior fcn. check prior and then\n",
    "    farm out data to the respective likelihoods.\"\"\"\n",
    "    # Boolean logic to sample in linear or in log scale\n",
    "    # Credit to Manuel for this\n",
    "    if log_sampling:\n",
    "        params = 10**params\n",
    "    lp = log_prior(params)\n",
    "    if lp == -np.inf:\n",
    "        return -np.inf\n",
    "    return (lp + log_like_constitutive(params, data_uv5)\n",
    "            + log_like_repressed(params, data_rep))"
   ]
  },
  {
   "cell_type": "code",
   "execution_count": null,
   "metadata": {},
   "outputs": [],
   "source": [
    "n_dim = 4\n",
    "n_walkers = 20\n",
    "n_burn = 10\n",
    "n_steps = 400\n",
    "\n",
    "# slice data for the sampler\n",
    "data_uv5 = np.unique(df_UV5['mRNA_cell'], return_counts=True)\n",
    "data_rep = np.unique(df_O2_1ngml['mRNA_cell'], return_counts=True)\n",
    "# init walkers\n",
    "p0 = np.zeros([n_walkers, n_dim])\n",
    "p0[:,0] = np.random.uniform(5,6, n_walkers) # k_burst\n",
    "p0[:,1] = np.random.uniform(3,4, n_walkers) # mean_burst\n",
    "p0[:,2] = np.random.uniform(0,10, n_walkers) # kR_on\n",
    "p0[:,3] = np.random.uniform(0,10, n_walkers) # kR_off"
   ]
  },
  {
   "cell_type": "code",
   "execution_count": null,
   "metadata": {},
   "outputs": [],
   "source": [
    "with Pool() as pool:\n",
    "    # instantiate sampler\n",
    "    sampler = emcee.EnsembleSampler(\n",
    "        n_walkers, n_dim, log_posterior, pool=pool, args=(data_uv5, data_rep),\n",
    "    )\n",
    "    print(\"starting burn-in...\")\n",
    "    pos, prob, state = sampler.run_mcmc(p0, n_burn, store=False, progress=True)\n",
    "    print(\"starting actual sampling...\")\n",
    "    _ = sampler.run_mcmc(pos, n_steps, progress=True, thin_by=10);"
   ]
  },
  {
   "cell_type": "code",
   "execution_count": null,
   "metadata": {},
   "outputs": [],
   "source": [
    "fig, axes = plt.subplots(4, figsize=(10, 7), sharex=True)\n",
    "samples = sampler.get_chain()\n",
    "labels = [\"k_burst\", \"b\", \"kR_on\", \"kR_off\"]\n",
    "for i in range(n_dim):\n",
    "    ax = axes[i]\n",
    "    ax.plot(samples[:, :, i], \"k\", alpha=0.3)\n",
    "    ax.set_xlim(0, len(samples))\n",
    "    ax.set_ylabel(labels[i])\n",
    "    ax.yaxis.set_label_coords(-0.1, 0.5)\n",
    "\n",
    "axes[-1].set_xlabel(\"step number\");"
   ]
  },
  {
   "cell_type": "code",
   "execution_count": null,
   "metadata": {},
   "outputs": [],
   "source": [
    "sampler.get_autocorr_time()"
   ]
  },
  {
   "cell_type": "code",
   "execution_count": null,
   "metadata": {},
   "outputs": [],
   "source": [
    "emcee_output = az.from_emcee(sampler, var_names=['k_burst', 'b', 'kR_on', 'kR_off'])"
   ]
  },
  {
   "cell_type": "code",
   "execution_count": null,
   "metadata": {},
   "outputs": [],
   "source": [
    "bokeh.io.show(bebi103.viz.corner(emcee_output, plot_ecdf=True))"
   ]
  }
 ],
 "metadata": {
  "kernelspec": {
   "display_name": "Python 3",
   "language": "python",
   "name": "python3"
  },
  "language_info": {
   "codemirror_mode": {
    "name": "ipython",
    "version": 3
   },
   "file_extension": ".py",
   "mimetype": "text/x-python",
   "name": "python",
   "nbconvert_exporter": "python",
   "pygments_lexer": "ipython3",
   "version": "3.7.7"
  }
 },
 "nbformat": 4,
 "nbformat_minor": 4
}
